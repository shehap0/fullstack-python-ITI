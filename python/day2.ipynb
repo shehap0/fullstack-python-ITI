{
 "cells": [
  {
   "cell_type": "code",
   "execution_count": 3,
   "id": "d14a6648",
   "metadata": {},
   "outputs": [
    {
     "name": "stdout",
     "output_type": "stream",
     "text": [
      "mohammedmohammedmohammed\n",
      "mohammed ibrahim\n",
      "    *\n",
      "   **\n",
      "  ***\n",
      " ****\n"
     ]
    }
   ],
   "source": [
    "name = \"mohammed\"\n",
    "print (name * 3) # interpolation \n",
    "print (name + \" ibrahim\") # concatination \n",
    "# num \n",
    "# spaces , * \n",
    "# num =  4\n",
    "# ===*  -> 1 -> ( 3 , 1) \n",
    "# ==**  -> 2 -> ( 2 , 2) \n",
    "# =***  -> 3 -> ( 1 , 3) \n",
    "# ****  -> 4 -> ( 0 , 4) \n",
    "num = 4\n",
    "for row in range (1 , num+1):\n",
    "    print (\" \"*(num - row) , \"*\"*row)\n"
   ]
  },
  {
   "cell_type": "code",
   "execution_count": null,
   "id": "98cfdc6c",
   "metadata": {},
   "outputs": [
    {
     "name": "stdout",
     "output_type": "stream",
     "text": [
      "2\n",
      "50\n",
      "[60, 70, 60]\n",
      "['mohammed', 'ahmed', 'menna', 'yara']\n",
      "['test', 'ahmed', 'menna', 'yara']\n"
     ]
    }
   ],
   "source": [
    "# non primitive -> (list , tuple) ->index based  , set , dictionary -> key based  \n",
    "# list -> collection of values with different data types \n",
    "names = [\"mohammed\" , \"ahmed\" , \"menna\" , \"yara\"]\n",
    "grades = [ 60, 70 , 60 , 100]\n",
    "student_data = [\"mohammed\" , \"cs\" , [\"c++\" , \"python\"] , [50, 60] ]\n",
    "print(names[-1].count(\"a\"))\n",
    "print (student_data[-1][0])\n",
    "print (grades[:3])\n",
    "# print (grades[10]) # error \n",
    "print(names)\n",
    "names[0] =\"test\" # applicable ( list is mutable -> supports item assignment)\n",
    "print(names)"
   ]
  },
  {
   "cell_type": "code",
   "execution_count": null,
   "id": "f34eceff",
   "metadata": {},
   "outputs": [
    {
     "name": "stdout",
     "output_type": "stream",
     "text": [
      "['mohammed', 'mahmoud', 'menna', ['yara', 'menna'], 'mina', 'mirna', 'm', 'a', 'r', 'i', 'a', 'm', 1, 2, 3]\n",
      "13\n",
      "['mohammed', 'mahmoud', 'menna', ['yara', 'menna'], 'mina', 'mirna', 'm', 'a', 'r', 'i', 'a', 'm', 'inserted value']\n"
     ]
    }
   ],
   "source": [
    "names = [\"mohammed\" , \"mahmoud\" , \"menna\"]\n",
    "names.append ([\"yara\", \"menna\"])\n",
    "names.extend ([\"mina\" , \"mirna\"] )\n",
    "names.extend (\"mariam\" )\n",
    "print (names + [1,2,3])\n",
    "names+=[1,2,3]\n",
    "names.insert (200, \"inserted value\") # 12 ( len(list) - 1)\n",
    "print (len (names)) #13\n",
    "print(names)"
   ]
  },
  {
   "cell_type": "code",
   "execution_count": 43,
   "id": "2d6b2ead",
   "metadata": {},
   "outputs": [
    {
     "name": "stdout",
     "output_type": "stream",
     "text": [
      "['mohammed', 'menna', 'mohammed', 'ahmed', 'basmala', 'ali']\n",
      "mahmoud\n",
      "['menna', 'ahmed', 'basmala', 'ali']\n",
      "False\n",
      "True\n",
      "-10\n"
     ]
    }
   ],
   "source": [
    "names = [\"mohammed\" , \"mahmoud\" , \"menna\" , \"mohammed\" , \"ahmed\" , \"basmala\" , \"ali\"]\n",
    "popped_element = names.pop (1) # returns the popped element\n",
    "print(names)\n",
    "print(popped_element)\n",
    "while \"mohammed\" in names :\n",
    "    names.remove (\"mohammed\") # returns None\n",
    "print(names)\n",
    "print (\"yasmmen\" in names)\n",
    "print (\"menna\" in names)\n",
    "print (min(0,1,-10))"
   ]
  },
  {
   "cell_type": "code",
   "execution_count": 48,
   "id": "85f29a03",
   "metadata": {},
   "outputs": [
    {
     "name": "stdout",
     "output_type": "stream",
     "text": [
      "mohammed\n",
      "['ali', 'basmala', 'ahmed', 'mohammed', 'menna', 'mahmoud', 'mohammed']\n",
      "['ali', 'ahmed', 'menna', 'basmala', 'mahmoud', 'mohammed', 'mohammed']\n",
      "['mohammed', 'mohammed', 'basmala', 'mahmoud', 'ahmed', 'menna', 'ali']\n"
     ]
    }
   ],
   "source": [
    "names = [\"mohammed\" , \"mahmoud\" , \"menna\" , \"mohammed\" , \"ahmed\" , \"basmala\" , \"ali\"]\n",
    "print (max(names , key = len) )\n",
    "names.reverse()\n",
    "print (names)\n",
    "names.sort (key= len)# ascending\n",
    "print (names)\n",
    "names.sort ( key = len, reverse=True) # descinding\n",
    "print (names)"
   ]
  },
  {
   "cell_type": "code",
   "execution_count": 54,
   "id": "6836690c",
   "metadata": {},
   "outputs": [
    {
     "name": "stdout",
     "output_type": "stream",
     "text": [
      "['ahmed', 'ali', 'basmala', 'mahmoud', 'menna', 'mohammed', 'mohammed']\n",
      "['mohammed', 'mohammed', 'menna', 'mahmoud', 'basmala', 'ali', 'ahmed']\n",
      "['mohammed', 'mahmoud', 'menna', 'mohammed', 'ahmed', 'basmala', 'ali']\n"
     ]
    }
   ],
   "source": [
    "names = [\"mohammed\" , \"mahmoud\" , \"menna\" , \"mohammed\" , \"ahmed\" , \"basmala\" , \"ali\" ]\n",
    "print (sorted (names))\n",
    "print (sorted (names , reverse=True))\n",
    "print (names)"
   ]
  },
  {
   "cell_type": "code",
   "execution_count": 51,
   "id": "7ded2c94",
   "metadata": {},
   "outputs": [
    {
     "name": "stdout",
     "output_type": "stream",
     "text": [
      "mohammed\n",
      "mahmoud\n",
      "menna\n",
      "mohammed\n",
      "ahmed\n",
      "basmala\n",
      "ali\n"
     ]
    }
   ],
   "source": [
    "names = [\"mohammed\" , \"mahmoud\" , \"menna\" , \"mohammed\" , \"ahmed\" , \"basmala\" , \"ali\"]\n",
    "for index in range (0 , len(names)):\n",
    "    print (names[index])"
   ]
  },
  {
   "cell_type": "code",
   "execution_count": null,
   "id": "09671597",
   "metadata": {},
   "outputs": [],
   "source": []
  },
  {
   "cell_type": "code",
   "execution_count": null,
   "id": "65dfeca5",
   "metadata": {},
   "outputs": [
    {
     "name": "stdout",
     "output_type": "stream",
     "text": [
      "mohammed\n",
      "mahmoud\n",
      "menna\n",
      "mohammed\n",
      "ahmed\n",
      "basmala\n",
      "ali\n"
     ]
    }
   ],
   "source": [
    "names = [\"mohammed\" , \"mahmoud\" , \"menna\" , \"mohammed\" , \"ahmed\" , \"basmala\" , \"ali\" ]\n",
    "for element in names :\n",
    "    print (element)"
   ]
  },
  {
   "cell_type": "code",
   "execution_count": null,
   "id": "0f479adb",
   "metadata": {},
   "outputs": [
    {
     "name": "stdout",
     "output_type": "stream",
     "text": [
      "<class 'tuple'>\n",
      "False\n",
      "<class 'tuple'>\n"
     ]
    }
   ],
   "source": [
    "grades = (1, 2,3) # is immutable \n",
    "print (type(grades))\n",
    "grades = list(grades)\n",
    "print (5 in grades)\n",
    "grades = (\"hi\"  )\n",
    "print (type(grades)) # str\n",
    "grades = (\"hi\" , )  # tuple of one element \n",
    "print (type(grades)) # tuple\n"
   ]
  },
  {
   "cell_type": "code",
   "execution_count": null,
   "id": "7a8cda2c",
   "metadata": {},
   "outputs": [],
   "source": [
    "5\n",
    "# [[1],[2 , 4],[3 , 6, 9 ] , [4 , 8 , 12 , 16] , [5 ,10 , 15  20 , 25]]\n",
    "3\n",
    "[ [1] , [2 , 4] , [3 , 6 , 9] ]"
   ]
  },
  {
   "cell_type": "code",
   "execution_count": 69,
   "id": "b9ce0197",
   "metadata": {},
   "outputs": [
    {
     "name": "stdout",
     "output_type": "stream",
     "text": [
      "s ['h', 'i', 'm', 'a', 'a']\n"
     ]
    }
   ],
   "source": [
    "a = 5\n",
    "b = 10 \n",
    "a= 5 ; b = 10 \n",
    "a , b = 5 , \"hi\"  # sequence unpacking \n",
    "a , b = (5 , \"hi\" )  \n",
    "*a , b = [5 , \"hi\" , 10]\n",
    "a , *b = \"shimaa\"\n",
    "print ( a , b)"
   ]
  }
 ],
 "metadata": {
  "kernelspec": {
   "display_name": "Python 3",
   "language": "python",
   "name": "python3"
  },
  "language_info": {
   "codemirror_mode": {
    "name": "ipython",
    "version": 3
   },
   "file_extension": ".py",
   "mimetype": "text/x-python",
   "name": "python",
   "nbconvert_exporter": "python",
   "pygments_lexer": "ipython3",
   "version": "3.13.2"
  }
 },
 "nbformat": 4,
 "nbformat_minor": 5
}
