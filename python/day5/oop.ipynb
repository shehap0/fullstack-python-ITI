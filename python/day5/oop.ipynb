{
 "cells": [
  {
   "cell_type": "code",
   "execution_count": null,
   "id": "30c1735e",
   "metadata": {},
   "outputs": [
    {
     "name": "stdout",
     "output_type": "stream",
     "text": [
      "<class 'int'>\n",
      "0\n",
      "<__main__.Instructor object at 0x000001E4FDBDD400>\n",
      "mohammed\n",
      "mohammed study using videos\n",
      "<__main__.Student object at 0x000001E4FDBDDD30>\n",
      "ahmed study using tutorials\n",
      "<__main__.Student object at 0x000001E4FD9E3750>\n",
      "2\n",
      "2\n",
      "2\n",
      "2\n",
      "2\n",
      "10\n",
      "50\n",
      "50\n",
      "10\n",
      "<class '__main__.Student'>\n",
      "student name : mohammed\n",
      "student gpa : 3.5\n",
      "student faculty : cs\n",
      "student name : mohammed\n",
      "student gpa : 3.5\n",
      "student faculty : cs\n",
      "student name : ahmed\n",
      "student gpa : 3.1\n",
      "student faculty : it\n"
     ]
    }
   ],
   "source": [
    "class Student :\n",
    "    # attributes (variable) : instance variable , class variable\n",
    "    # methods (functions) : instance , class , \n",
    "    count = 0 # class variable  \n",
    "    def __init__(self, name , age , faculty , gpa):\n",
    "        self.name  = name # instance variable initialized inside instance method \n",
    "        self.age  = age\n",
    "        self.faculty = faculty\n",
    "        self.gpa = gpa \n",
    "        Student.count+=1\n",
    "        \n",
    "    def study (self , media): # self is passed automatically. refers to the caller objects \n",
    "        print (f\"{self.name} study using {media}\")\n",
    "    @classmethod\n",
    "    def make_card (cls , object): # mohammed.make_card(ahmed)  , cls -> Student class , object = ahmed \n",
    "        print (f\"student name : {object.name}\")\n",
    "        print (f\"student gpa : {object.gpa}\")\n",
    "        print (f\"student faculty : {object.faculty}\")\n",
    "    \n",
    "\n",
    "i=5 \n",
    "print (type(i))\n",
    "\n",
    "print (Student.count)\n",
    "\n",
    "class Instructor :\n",
    "    pass\n",
    "shimaa = Instructor()\n",
    "print (shimaa)\n",
    "mohammed = Student (\"mohammed\" , 25 , \"cs\" , 3.5) #mohammed (name , age , faculty , gpa)\n",
    "print (mohammed.name)\n",
    "mohammed.study(\"videos\")\n",
    "print (mohammed)\n",
    "ahmed = Student(\"ahmed\" , 24 , \"it\" , 3.1) # ahmed (name , age , faculty , gpa)\n",
    "ahmed.study(\"tutorials\")\n",
    "print (ahmed)\n",
    "print (Student.count) # 2\n",
    "print (mohammed.count)  # 2\n",
    "print (ahmed.count)  # 2\n",
    "ahmed.count = 10 # instance variable created outside class only for ahmed (name , age , faculty , gpa , count)\n",
    "print (Student.count) # 2\n",
    "print (mohammed.count)  # 2\n",
    "print (ahmed.count)  # 10\n",
    "Student.count = 50\n",
    "print (Student.count) # 50\n",
    "print (mohammed.count)  # 50\n",
    "print (ahmed.count)  # 10\n",
    "\n",
    "print (type(mohammed))\n",
    "Student.make_card(mohammed)\n",
    "mohammed.make_card(mohammed)\n",
    "mohammed.make_card(ahmed)"
   ]
  },
  {
   "cell_type": "code",
   "execution_count": null,
   "id": "9bab0f19",
   "metadata": {},
   "outputs": [
    {
     "data": {
      "text/plain": [
       "4750.0"
      ]
     },
     "execution_count": 23,
     "metadata": {},
     "output_type": "execute_result"
    }
   ],
   "source": [
    "class Employee :\n",
    "\n",
    "    @staticmethod\n",
    "    def calc_sal(salary , discount):\n",
    "        return salary-(salary*discount/100)\n",
    "Employee.calc_sal(5000 , 5)"
   ]
  }
 ],
 "metadata": {
  "kernelspec": {
   "display_name": "Python 3",
   "language": "python",
   "name": "python3"
  },
  "language_info": {
   "codemirror_mode": {
    "name": "ipython",
    "version": 3
   },
   "file_extension": ".py",
   "mimetype": "text/x-python",
   "name": "python",
   "nbconvert_exporter": "python",
   "pygments_lexer": "ipython3",
   "version": "3.13.2"
  }
 },
 "nbformat": 4,
 "nbformat_minor": 5
}
