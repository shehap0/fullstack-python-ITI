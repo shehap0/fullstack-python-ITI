{
 "cells": [
  {
   "cell_type": "code",
   "execution_count": null,
   "id": "2debf74d",
   "metadata": {},
   "outputs": [
    {
     "name": "stdout",
     "output_type": "stream",
     "text": [
      "apple\n",
      "-----\n",
      "-pp--\n",
      "-ppl-\n",
      "-ppl-\n",
      "-ppl-\n",
      "-ppl-\n",
      "-ppl-\n",
      "enter only one character \n",
      "-ppl-\n",
      "-ppl-\n",
      "-ppl-\n",
      "sorry try again later :(\n",
      "the word was : apple\n"
     ]
    }
   ],
   "source": [
    "# l = [ \"\"  , \"\" , \"\"]\n",
    "# random_word = random.choice()  # banana\n",
    "#printed_word =  \"-\"*len (random_word) # ------\n",
    "temp = \"\"\n",
    "\n",
    "# tries = 7\n",
    "# char = input () # one character , entered before \n",
    "# if char in random -> replace - with char \n",
    "import random\n",
    "words  = [\"banana\" , \"apple\" , \"orange\"]\n",
    "random_word = random.choice(words)\n",
    "printed_word = \"-\"*len(random_word)\n",
    "print(printed_word)\n",
    "tries = 7\n",
    "while tries>0 and \"-\" in printed_word:\n",
    "    char = input (\"enter a characetr : \")\n",
    "    if len(char)>1:\n",
    "        print (\"enter only one character \")\n",
    "        continue\n",
    "    if char in printed_word:\n",
    "        print (\"enterd before\")\n",
    "        continue\n",
    "    if char in random_word:\n",
    "        temp = \"\"\n",
    "        for index in range (0 , len(random_word)): # ba-a-a , x , banana \n",
    "            if random_word[index] ==char:\n",
    "                temp+=char # ba-a-a\n",
    "            else :\n",
    "                temp+=printed_word[index] # temp = ba-a-\n",
    "        printed_word = temp\n",
    "        print (printed_word)\n",
    "    else:\n",
    "        tries -= 1\n",
    "        print(printed_word) \n",
    "if \"-\" not in  printed_word:\n",
    "    print (\"congratuations :) \")\n",
    "else :\n",
    "    print (\"sorry try again later :(\")\n",
    "    print (f\"the word was : {random_word}\")\n",
    "\n",
    "\n"
   ]
  },
  {
   "cell_type": "code",
   "execution_count": 25,
   "id": "fe7b7efc",
   "metadata": {},
   "outputs": [
    {
     "name": "stdout",
     "output_type": "stream",
     "text": [
      "2.0\n",
      "0.8939966636005579\n",
      "3.141592653589793\n",
      "0.7142857142857143\n",
      "1\n",
      "0\n",
      "1\n",
      "0\n",
      "0\n"
     ]
    }
   ],
   "source": [
    "import math \n",
    "print (math.sqrt(4))\n",
    "print (math.sin(90))\n",
    "print (math.pi)\n",
    "print(5/7)\n",
    "print (round(5/7))\n",
    "print (round(0.4))\n",
    "print(math.ceil(5/7))\n",
    "print(math.floor(5/7)) \n",
    "print (5//7) # floor"
   ]
  },
  {
   "cell_type": "code",
   "execution_count": null,
   "id": "84374afc",
   "metadata": {},
   "outputs": [
    {
     "name": "stdout",
     "output_type": "stream",
     "text": [
      "2.0\n",
      "0.8939966636005579\n",
      "3.141592653589793\n"
     ]
    }
   ],
   "source": [
    "from math import sqrt , sin , pi \n",
    "from math import *\n",
    "print (sqrt(4))\n",
    "print (sin(90))\n",
    "print(pi)"
   ]
  },
  {
   "cell_type": "code",
   "execution_count": 5,
   "id": "82388499",
   "metadata": {},
   "outputs": [
    {
     "name": "stdout",
     "output_type": "stream",
     "text": [
      "day5\n",
      "fun in day5\n",
      "day5\n",
      "fun in day5\n"
     ]
    }
   ],
   "source": [
    "import mods.student.day5  \n",
    "print (mods.student.day5.day5)\n",
    "print (mods.student.day5.fun())\n",
    "\n",
    "import mods.student.day5  as mymod\n",
    "print(mymod.day5)\n",
    "print(mymod.fun())\n"
   ]
  },
  {
   "cell_type": "code",
   "execution_count": 4,
   "id": "f0b81ee9",
   "metadata": {},
   "outputs": [
    {
     "name": "stdout",
     "output_type": "stream",
     "text": [
      "(9, -1, 20, 0.8)\n"
     ]
    }
   ],
   "source": [
    "from mods.student.day5   import calculations\n",
    "print(calculations(4,5))"
   ]
  },
  {
   "cell_type": "code",
   "execution_count": 20,
   "id": "5151789e",
   "metadata": {},
   "outputs": [
    {
     "name": "stdout",
     "output_type": "stream",
     "text": [
      "num1 is integer , num2 is float\n",
      "2.5\n",
      "num1 is float , num2 is integer\n",
      "7.5\n",
      "three strings\n",
      "shimaamohammedkhallaf\n"
     ]
    }
   ],
   "source": [
    "from multipledispatch import dispatch\n",
    "@dispatch (int , float)\n",
    "def sum (num1, num2):\n",
    "    print (\"num1 is integer , num2 is float\")\n",
    "    return num1+num2\n",
    "\n",
    "@dispatch(float, int)\n",
    "def sum (num1, num2):\n",
    "    print (\"num1 is float , num2 is integer\")\n",
    "    return num1+num2\n",
    "\n",
    "@dispatch ( str , str  , str)\n",
    "def sum (str1, str2 , str3):\n",
    "    print (\"three strings\")\n",
    "    return str1+str2+str3\n",
    "\n",
    "print (sum(2,0.5))\n",
    "print (sum(2.5,5))\n",
    "print (sum(\"shimaa\" , \"mohammed\" , \"khallaf\"))\n",
    "# print (sum(\"shimaa\" , \"mohammed\" ))"
   ]
  },
  {
   "cell_type": "code",
   "execution_count": null,
   "id": "7c7e2062",
   "metadata": {},
   "outputs": [
    {
     "name": "stdout",
     "output_type": "stream",
     "text": [
      "num1 is integer , num2 is float\n",
      "num1 is integer , num2 is float\n"
     ]
    },
    {
     "data": {
      "text/plain": [
       "2"
      ]
     },
     "execution_count": 19,
     "metadata": {},
     "output_type": "execute_result"
    }
   ],
   "source": [
    "def sum (num1 : int, num2 : float):\n",
    "    print (\"num1 is integer , num2 is float\")\n",
    "    return num1+num2\n",
    "sum(1 , 1.5)\n",
    "sum(1 , 1)"
   ]
  },
  {
   "cell_type": "code",
   "execution_count": 39,
   "id": "d8e0559b",
   "metadata": {},
   "outputs": [
    {
     "name": "stdout",
     "output_type": "stream",
     "text": [
      "True\n",
      "False\n"
     ]
    }
   ],
   "source": [
    "opened_file = open (\"students.txt\" , \"a\") # delete all lines from file ( writing only ) \n",
    "opened_file.write(\"mina\\n\")\n",
    "opened_file.write(\"mohammed\\n\")\n",
    "opened_file.writelines([\"menna\\n\" , \"yara\\n\", \"tasnim\\n\"])\n",
    "print(opened_file.writable())\n",
    "print(opened_file.readable())\n",
    "opened_file.close()"
   ]
  },
  {
   "cell_type": "code",
   "execution_count": 48,
   "id": "416877e9",
   "metadata": {},
   "outputs": [
    {
     "name": "stdout",
     "output_type": "stream",
     "text": [
      "mina\n",
      "\n",
      "mohammed\n",
      "\n",
      "me\n",
      "nna\n",
      "\n",
      "['yara\\n', 'tasnim\\n', 'mina\\n', 'mohammed\\n', 'menna\\n', 'yara\\n', 'tasnim\\n', 'mina\\n', 'mohammed\\n', 'menna\\n', 'yara\\n', 'tasnim\\n', '\\n', '\\n']\n"
     ]
    }
   ],
   "source": [
    "opened_file =  open (\"students.txt\" ) # file reading\n",
    "# file_as_one_strig = opened_file.read()\n",
    "# print(file_as_one_strig)\n",
    "line = opened_file.readline()\n",
    "print (line)\n",
    "line = opened_file.readline()\n",
    "print (line)\n",
    "characters_from_line = opened_file.readline(2)\n",
    "print(characters_from_line)\n",
    "characters_from_line = opened_file.readline(10)\n",
    "print(characters_from_line)\n",
    "rest_of_lines = opened_file.readlines()\n",
    "print(rest_of_lines)\n",
    "# opened_file.write(\"hi\")\n",
    "opened_file.close()"
   ]
  },
  {
   "cell_type": "code",
   "execution_count": 47,
   "id": "c58d40f1",
   "metadata": {},
   "outputs": [
    {
     "name": "stdout",
     "output_type": "stream",
     "text": [
      "mina\n",
      "mohammed\n",
      "menna\n",
      "yara\n",
      "tasnim\n",
      "mina\n",
      "mohammed\n",
      "menna\n",
      "yara\n",
      "tasnim\n",
      "mina\n",
      "mohammed\n",
      "menna\n",
      "yara\n",
      "tasnim\n",
      "\n",
      "\n",
      "\n"
     ]
    }
   ],
   "source": [
    "with open(\"students.txt\" , \"r\") as opened_file:\n",
    "    all_lines =opened_file.read()\n",
    "    print (all_lines)"
   ]
  }
 ],
 "metadata": {
  "kernelspec": {
   "display_name": "Python 3",
   "language": "python",
   "name": "python3"
  },
  "language_info": {
   "codemirror_mode": {
    "name": "ipython",
    "version": 3
   },
   "file_extension": ".py",
   "mimetype": "text/x-python",
   "name": "python",
   "nbconvert_exporter": "python",
   "pygments_lexer": "ipython3",
   "version": "3.13.2"
  }
 },
 "nbformat": 4,
 "nbformat_minor": 5
}
