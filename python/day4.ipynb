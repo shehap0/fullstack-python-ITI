{
 "cells": [
  {
   "cell_type": "code",
   "execution_count": null,
   "id": "406214dc",
   "metadata": {},
   "outputs": [
    {
     "name": "stdout",
     "output_type": "stream",
     "text": [
      " lv t \n",
      " lv djng\n"
     ]
    }
   ],
   "source": [
    "def string_without_vowels (sentence): # sentence = \"i love iti\"\n",
    "    sentence_without_vowels = [char for char in sentence if char.lower() not in \"aeiou\"]\n",
    "    sentence_without_vowels= \"\".join(sentence_without_vowels)\n",
    "    return sentence_without_vowels # returns value : \"lv t\"\n",
    "def take_sentence():\n",
    "    sentence = input (\"enter sentence  : \")\n",
    "    return sentence\n",
    "\n",
    "\n",
    "print(string_without_vowels(\"i love iti \") ) # lv t \n",
    "# print (take_sentence ())\n",
    "entered_sentennce = take_sentence() # i love django \n",
    "print (string_without_vowels(entered_sentennce)) \n",
    "# print (sentence_without_vowels) # error \n"
   ]
  },
  {
   "cell_type": "code",
   "execution_count": 19,
   "id": "01c664e1",
   "metadata": {},
   "outputs": [
    {
     "name": "stdout",
     "output_type": "stream",
     "text": [
      "I will make you tea with 2 spoons of suger :)\n",
      "I will make you coffee with 2 spoons of suger :)\n"
     ]
    }
   ],
   "source": [
    "def make_drink (drink , count_of_suger_spoons): # drink = \"tea\" , count_of_suger_spoons = 2\n",
    "    print (f\"I will make you {drink} with {count_of_suger_spoons} spoons of suger :)\")\n",
    "make_drink(\"tea\" , 2)\n",
    "make_drink (count_of_suger_spoons=2 , drink=\"coffee\")"
   ]
  },
  {
   "cell_type": "code",
   "execution_count": 25,
   "id": "7eb36a1b",
   "metadata": {},
   "outputs": [
    {
     "name": "stdout",
     "output_type": "stream",
     "text": [
      "I will make you tea with 2 spoons of suger :)\n",
      "I will make you coffee with 2 spoons of suger :)\n",
      "I will make you orange juice with 3 spoons of suger :)\n"
     ]
    }
   ],
   "source": [
    "def make_drink (drink= \"tea\" , count_of_suger_spoons = 2 ): # drink = \"coffee\" , count_of_suger_spoons = 2\n",
    "    print (f\"I will make you {drink} with {count_of_suger_spoons} spoons of suger :)\")\n",
    "make_drink()\n",
    "make_drink(\"coffee\" )\n",
    "make_drink (count_of_suger_spoons=3 , drink=\"orange juice\")"
   ]
  },
  {
   "cell_type": "code",
   "execution_count": 29,
   "id": "9ad45687",
   "metadata": {},
   "outputs": [
    {
     "name": "stdout",
     "output_type": "stream",
     "text": [
      "[' lv t ', 'djng', 'pythn']\n"
     ]
    }
   ],
   "source": [
    "def strings_without_vowels (sentences):\n",
    "    sentences_without_vowels = []\n",
    "    for sentence in sentences:\n",
    "        sentences_without_vowels.append(\"\".join([char for char in sentence if char.lower() not in \"aeiou\"]))\n",
    "    return sentences_without_vowels\n",
    "result = strings_without_vowels([\"i love iti \" , \"django\" , \"python\"])\n",
    "print (result)"
   ]
  },
  {
   "cell_type": "code",
   "execution_count": null,
   "id": "3521d54c",
   "metadata": {},
   "outputs": [
    {
     "name": "stdout",
     "output_type": "stream",
     "text": [
      "['pythn', 'djng']\n"
     ]
    }
   ],
   "source": [
    "def fun_with_undetermined_number_of_args (*args):\n",
    "    sentences_without_vowels = []\n",
    "    for sentence in args:\n",
    "        sentences_without_vowels.append(\"\".join([char for char in sentence if char.lower() not in \"aeiou\"]))\n",
    "    return sentences_without_vowels\n",
    "print (fun_with_undetermined_number_of_args(\"python\" , \"django\"))\n",
    "fun_with_undetermined_number_of_args(\"python\")\n",
    "fun_with_undetermined_number_of_args()"
   ]
  },
  {
   "cell_type": "code",
   "execution_count": 32,
   "id": "84fbf867",
   "metadata": {},
   "outputs": [
    {
     "name": "stdout",
     "output_type": "stream",
     "text": [
      "{'name': 'shimaa'}\n",
      "{'name': 'ahmed', 'age': 25}\n",
      "{'name': 'ahmed', 'faculty': 'CS'}\n"
     ]
    }
   ],
   "source": [
    "def introduce_yourself (**params):\n",
    "    print(params)\n",
    "introduce_yourself(name = \"shimaa\")\n",
    "introduce_yourself(name = \"ahmed\" , age = 25)\n",
    "introduce_yourself(name = \"ahmed\" , faculty = \"CS\")"
   ]
  },
  {
   "cell_type": "code",
   "execution_count": null,
   "id": "1071e43e",
   "metadata": {},
   "outputs": [
    {
     "name": "stdout",
     "output_type": "stream",
     "text": [
      "{}\n",
      "index error\n",
      "in both cases\n"
     ]
    }
   ],
   "source": [
    "try :\n",
    "    l = [1,2] \n",
    "    print (l[3]) # access except the rest of try lines will not be accessed\n",
    "    print (int(\"1\"))\n",
    "    x = \"x\"\n",
    "    print (x)\n",
    "except IndexError as ierr : # take object \n",
    "    print (ierr)\n",
    "    print (\"index error\")\n",
    "except NameError:\n",
    "    print( \"name error\")\n",
    "except Exception :\n",
    "    print (\"for any other type of errors \")\n",
    "else:\n",
    "    print (\"no errors\")\n",
    "finally:\n",
    "    print (\"in both cases\")"
   ]
  },
  {
   "cell_type": "code",
   "execution_count": 59,
   "id": "e50f95f5",
   "metadata": {},
   "outputs": [
    {
     "name": "stdout",
     "output_type": "stream",
     "text": [
      "num2 cann't be 0\n",
      "13\n",
      "-7\n",
      "30\n",
      "0.3\n"
     ]
    }
   ],
   "source": [
    "class UserDefinedError(Exception):\n",
    "    pass\n",
    "def calculate_aruthmetics( num1 , num2):\n",
    "    try:\n",
    "        if num2 == 0:\n",
    "            # raise ValueError (\"num2 cann't be 0\")\n",
    "            raise UserDefinedError (\"num2 cann't be 0\")\n",
    "        print (num1+num2)\n",
    "        print (num1-num2)\n",
    "        print (num1*num2)\n",
    "        print (num1/num2)\n",
    "    except ValueError as verr:\n",
    "        print(verr)\n",
    "    except UserDefinedError as uerr:\n",
    "        print(uerr)\n",
    "\n",
    "calculate_aruthmetics(3 ,0)\n",
    "calculate_aruthmetics(3 ,10)"
   ]
  },
  {
   "cell_type": "code",
   "execution_count": null,
   "id": "6a9fd102",
   "metadata": {},
   "outputs": [],
   "source": [
    "def calculate_aruthmetics( num1 , num2):\n",
    "    print (num1+num2)\n",
    "    print (num1+num2)"
   ]
  },
  {
   "cell_type": "code",
   "execution_count": 35,
   "id": "41793d75",
   "metadata": {},
   "outputs": [
    {
     "ename": "IndexError",
     "evalue": "list index out of range",
     "output_type": "error",
     "traceback": [
      "\u001b[1;31m---------------------------------------------------------------------------\u001b[0m",
      "\u001b[1;31mIndexError\u001b[0m                                Traceback (most recent call last)",
      "Cell \u001b[1;32mIn[35], line 2\u001b[0m\n\u001b[0;32m      1\u001b[0m l \u001b[38;5;241m=\u001b[39m [\u001b[38;5;241m1\u001b[39m,\u001b[38;5;241m2\u001b[39m] \n\u001b[1;32m----> 2\u001b[0m \u001b[38;5;28mprint\u001b[39m (\u001b[43ml\u001b[49m\u001b[43m[\u001b[49m\u001b[38;5;241;43m3\u001b[39;49m\u001b[43m]\u001b[49m)\n",
      "\u001b[1;31mIndexError\u001b[0m: list index out of range"
     ]
    }
   ],
   "source": [
    "l = [1,2] \n",
    "print (l[3])"
   ]
  },
  {
   "cell_type": "code",
   "execution_count": null,
   "id": "6369e241",
   "metadata": {},
   "outputs": [],
   "source": [
    "# abdulrahmanabcdef\n",
    "# abdu\n",
    "# lr\n",
    "# ahm\n",
    "# an\n",
    "# abcdef\n",
    "# longest -> abcdef\n",
    "\n",
    "\n",
    "# [\"banana\" , \"apple\" , \"orange\"]\n",
    "# \"banana\"\n",
    "# ------ 7 tries , n \n",
    "# --n-n- ,  x  ->  6 tries \n",
    "# --n-n- , a -> 6 tries \n",
    "# -anana , b\n",
    "# banana \n",
    "\n",
    "# apple\n",
    "# ----- -> x , 6tries\n",
    "\n",
    "# ----- -> y , 5 tries \n",
    "# a---- -> 5 tries \n",
    "# app-- 5 tries \n",
    "# app-e 5 tries \n",
    "# apple \n",
    "\n"
   ]
  }
 ],
 "metadata": {
  "kernelspec": {
   "display_name": "Python 3",
   "language": "python",
   "name": "python3"
  },
  "language_info": {
   "codemirror_mode": {
    "name": "ipython",
    "version": 3
   },
   "file_extension": ".py",
   "mimetype": "text/x-python",
   "name": "python",
   "nbconvert_exporter": "python",
   "pygments_lexer": "ipython3",
   "version": "3.13.3"
  }
 },
 "nbformat": 4,
 "nbformat_minor": 5
}
