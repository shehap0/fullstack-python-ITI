{
 "cells": [
  {
   "cell_type": "code",
   "execution_count": null,
   "id": "8f473680",
   "metadata": {},
   "outputs": [],
   "source": [
    "def fun ():\n",
    "    print (name) # global\n",
    "name = \"global\"\n",
    "print (name) # global\n",
    "fun()\n"
   ]
  },
  {
   "cell_type": "code",
   "execution_count": null,
   "id": "32052ad7",
   "metadata": {},
   "outputs": [
    {
     "name": "stdout",
     "output_type": "stream",
     "text": [
      "global\n",
      "fun\n",
      "global\n"
     ]
    }
   ],
   "source": [
    "def fun ():\n",
    "    name = \"fun\" # locally inside function scope (local variable)\n",
    "    print (name) # fun\n",
    "    # print (undefined_var)\n",
    "name = \"global\"\n",
    "print (name) # global\n",
    "fun()\n",
    "print (name) # global\n"
   ]
  },
  {
   "cell_type": "code",
   "execution_count": null,
   "id": "22826cd2",
   "metadata": {},
   "outputs": [
    {
     "name": "stdout",
     "output_type": "stream",
     "text": [
      "global\n",
      "outer\n",
      "global\n"
     ]
    }
   ],
   "source": [
    "def outer():\n",
    "    name = \"outer\"\n",
    "    def fun ():\n",
    "        print (name) # outer\n",
    "    fun()\n",
    "name = \"global\"\n",
    "print (name) # global\n",
    "outer()\n",
    "print (name) # global\n"
   ]
  },
  {
   "cell_type": "code",
   "execution_count": 6,
   "id": "46f18c4d",
   "metadata": {},
   "outputs": [
    {
     "name": "stdout",
     "output_type": "stream",
     "text": [
      "global\n",
      "outer\n",
      "fun\n",
      "global\n"
     ]
    }
   ],
   "source": [
    "def outer():\n",
    "    name = \"outer\"\n",
    "    def fun ():\n",
    "        name = \"fun\"\n",
    "        print (name) # fun\n",
    "    print (name)  # outer\n",
    "    fun()\n",
    "name = \"global\"\n",
    "print (name) # global\n",
    "outer()\n",
    "print (name) # global\n"
   ]
  },
  {
   "cell_type": "code",
   "execution_count": 9,
   "id": "54d434c4",
   "metadata": {},
   "outputs": [
    {
     "name": "stdout",
     "output_type": "stream",
     "text": [
      "global\n",
      "outer\n",
      "local var\n",
      "fun\n",
      "outer\n",
      "fun\n",
      "x\n"
     ]
    }
   ],
   "source": [
    "def outer():\n",
    "    name = \"outer\"\n",
    "    def fun ():\n",
    "        global name , x \n",
    "        name = \"fun\"\n",
    "        x = \"x\"\n",
    "        local_var  = \"local var\"\n",
    "        print (local_var) # local var\n",
    "        print (name) #  fun\n",
    "    print (name)  # outer\n",
    "    fun()\n",
    "    print (name) # outer\n",
    "name = \"global\"\n",
    "print (name) # global\n",
    "# print (x) # Error undefined \n",
    "outer()\n",
    "print (name) # fun\n",
    "print (x) # x\n"
   ]
  },
  {
   "cell_type": "code",
   "execution_count": 15,
   "id": "6c116bbd",
   "metadata": {},
   "outputs": [
    {
     "name": "stdout",
     "output_type": "stream",
     "text": [
      "global\n",
      "outer\n",
      "hi\n",
      "local var\n",
      "fun\n",
      "hello\n",
      "fun\n",
      "hello\n",
      "global\n"
     ]
    }
   ],
   "source": [
    "def hi():\n",
    "    hi = \"hi\"\n",
    "    def outer():\n",
    "        name = \"outer\"\n",
    "        def fun ():\n",
    "            nonlocal name   , hi\n",
    "            name = \"fun\"\n",
    "            x = \"x\" \n",
    "            hi = \"hello\"\n",
    "            local_var  = \"local var\"\n",
    "            print (local_var) # local var\n",
    "            print (name) #  fun\n",
    "        print (name)  # outer\n",
    "        print (hi) # hi\n",
    "        fun()\n",
    "        print (hi) # hello\n",
    "        print (name) # fun\n",
    "    outer()\n",
    "    print (hi) # hello\n",
    "name = \"global\"\n",
    "print (name) # global\n",
    "# print (x) # Error undefined \n",
    "hi()\n",
    "print (name) # global\n"
   ]
  },
  {
   "cell_type": "code",
   "execution_count": null,
   "id": "310ce280",
   "metadata": {},
   "outputs": [],
   "source": []
  }
 ],
 "metadata": {
  "kernelspec": {
   "display_name": "Python 3",
   "language": "python",
   "name": "python3"
  },
  "language_info": {
   "codemirror_mode": {
    "name": "ipython",
    "version": 3
   },
   "file_extension": ".py",
   "mimetype": "text/x-python",
   "name": "python",
   "nbconvert_exporter": "python",
   "pygments_lexer": "ipython3",
   "version": "3.13.2"
  }
 },
 "nbformat": 4,
 "nbformat_minor": 5
}
